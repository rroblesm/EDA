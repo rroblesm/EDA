{
 "cells": [
  {
   "cell_type": "markdown",
   "metadata": {},
   "source": [
    "### 0. Herramientas para generacion y medicion de datos"
   ]
  },
  {
   "cell_type": "code",
   "execution_count": 81,
   "metadata": {},
   "outputs": [],
   "source": [
    "import numpy as np # linear algebra\n",
    "import pandas as pd # data processing, CSV file I/O (e.g. pd.read_csv)\n",
    "\n",
    "# Input data files are available in the \"../input/\" directory.\n",
    "# For example, running this (by clicking run or pressing Shift+Enter) will list the files in the input directory\n",
    "\n",
    "import os\n",
    "import timeit\n",
    "import time\n",
    "from timeit import Timer\n",
    "import numpy as np\n",
    "import random\n",
    "import string\n",
    "from datetime import datetime\n",
    "random.seed(42)"
   ]
  },
  {
   "cell_type": "markdown",
   "metadata": {},
   "source": [
    "### 1. Merge Sort recursivo"
   ]
  },
  {
   "cell_type": "code",
   "execution_count": 23,
   "metadata": {},
   "outputs": [],
   "source": [
    "def merge_sort(lista):\n",
    "    tam = len(lista)\n",
    "    \n",
    "    if(tam==1):\n",
    "        return lista\n",
    "    \n",
    "    mitad = tam//2\n",
    "    #Para asegurarnos de que todas las particiones sean descompuestas a sus componentes individuales, \n",
    "    #llamamos recursivamente a la funcion merge sort\n",
    "    izquierda = merge_sort(lista[:mitad])\n",
    "    derecha = merge_sort(lista[mitad:])\n",
    "\n",
    "    #una vez descompuesto a la unidad, se empieza a unir por las llamadas en el Call Stack\n",
    "    return merge(izquierda, derecha)\n",
    "    \n",
    "##merge es el que realmente ordena, al ir checando los componentes        \n",
    "def merge(izquierda, derecha):\n",
    "    lista_ordenada =[]\n",
    "    i=j=0\n",
    "    \n",
    "    while i < len(izquierda) and j < len(derecha):\n",
    "        #compara los elementos en cada posicion de ambas listas\n",
    "        if izquierda[i] < derecha[j]:\n",
    "            lista_ordenada.append(izquierda[i])\n",
    "            i += 1\n",
    "        else:\n",
    "            lista_ordenada.append(derecha[j])\n",
    "            j +=1\n",
    "            \n",
    "    #los elemntos restantes son agregados al final de la lista\n",
    "    #claro esta que solo 1 de izquierda o derecha tendra elementos que agregar\n",
    "    lista_ordenada.extend(izquierda[i:])\n",
    "    lista_ordenada.extend(derecha[j:])\n",
    "    \n",
    "    return lista_ordenada"
   ]
  },
  {
   "cell_type": "markdown",
   "metadata": {},
   "source": [
    "### 2. Merge Sort Iterativo\n",
    "Tambien llamado \"Merge Sort de abajo hacia arriba\""
   ]
  },
  {
   "cell_type": "code",
   "execution_count": 177,
   "metadata": {},
   "outputs": [],
   "source": [
    "def merge_it(lista, aux, desde, medio, hasta):\n",
    " \n",
    "    k = desde #para la auxiliar\n",
    "    i = desde #para la original, primera mitad\n",
    "    j = medio + 1 #para la original, segunda mitad\n",
    " \n",
    "    # while hasta que no halla elementos ni en la izquierda ni en la derecha\n",
    "    while i <= medio and j <= hasta:\n",
    "        if lista[i] < lista[j]:\n",
    "            aux[k] = lista[i]\n",
    "            i += 1\n",
    "        else:\n",
    "            aux[k] = lista[j]\n",
    "            j += 1\n",
    " \n",
    "        k += 1\n",
    " \n",
    "    #naturalmente, se cumplira una de las 2 condiciones.\n",
    "    #por lo cual debemos de copiar los elementos restantes\n",
    "    #aunque es obvio que no ocupamos copiar la otra mitad, porque ya estan ordenados en su posicion\n",
    "    while i < len(lista) and i <= medio:\n",
    "        aux[k] = lista[i]\n",
    "        k += 1\n",
    "        i += 1\n",
    " \n",
    "    # Copiamos a la lista original para que, ahora si, este ordenado\n",
    "    for i in range(desde, hasta + 1):\n",
    "        lista[i] = aux[i]"
   ]
  },
  {
   "cell_type": "code",
   "execution_count": 175,
   "metadata": {},
   "outputs": [],
   "source": [
    "def mergesort_it(lista):\n",
    " \n",
    "    inicio = 0\n",
    "    fin = len(lista) - 1\n",
    " \n",
    "    # Ordena la lista usando una lista auxiliar\n",
    "    aux = lista.copy()\n",
    " \n",
    "    # divide la lista en bloques de tamaño 'm'\n",
    "    # m = [1, 2, 4, 8, 16…]\n",
    " \n",
    "    m = 1\n",
    "    while m <= (fin - inicio): #ie, mientras podamos seguir haciendo subdivisiones\n",
    " \n",
    "        # m = 1, i = [0, 2, 4, 6, 8…]\n",
    "        # m = 2, i = [0, 4, 8, 12…]\n",
    "        # m = 4, i = [0, 8, 16…]\n",
    "        # …\n",
    " \n",
    "        for i in range(inicio, fin, 2*m):\n",
    "            desde = i\n",
    "            medio = (i + m) - 1\n",
    "            hasta = min( (i + 2*m - 1), fin) \n",
    "            #llegara el punto donde i+2*m superara a fin, en ese caso no podemos llamar a posiciones que no existen\n",
    "            merge_it(lista, aux, desde, medio, hasta)\n",
    " \n",
    "        m = 2*m"
   ]
  },
  {
   "cell_type": "markdown",
   "metadata": {},
   "source": [
    "### 3. Quick Sort"
   ]
  },
  {
   "cell_type": "code",
   "execution_count": 30,
   "metadata": {},
   "outputs": [],
   "source": [
    "def particion(lista,inicio,fin):\n",
    "    i = (inicio - 1)\n",
    "    #inicializamos el indice del elemento mas pequeño, mientras que pivote sera el ultimo elemento\n",
    "    #se que en clase lo hicimos con el primer elemento, pero el libro me enamoro. Lo siento, profesor.\n",
    "    pivot = lista[fin]\n",
    "    #haremos un ciclo iterando desde el elemento mas\n",
    "    for j in range(inicio, fin):\n",
    "        #si el valor que actualmente estamos recorriendo es menor al pivote, aumentamos el indice del elemento menor\n",
    "        if lista[j] <= pivot:\n",
    "            i = i + 1\n",
    "            lista[i], lista[j] =  lista[j], lista[i]\n",
    "        #de otro modo (si el valor actual es mayor al pivote), intercambiamos los valores\n",
    "    lista[i+1],lista[fin] = lista[fin],lista[i+1]\n",
    "    return (i+1)\n",
    "\n",
    "def quickSort(lista, inicio, fin):\n",
    "    #vamos a \n",
    "    if inicio < fin:\n",
    "        indice_de_particion = particion(lista,inicio,fin)\n",
    "        #sorteamos los elementos antes y despues de la particion\n",
    "        quickSort(lista, inicio, indice_de_particion - 1)\n",
    "        quickSort(lista, indice_de_particion + 1, fin)\n",
    "        \n",
    "def quick_sort(lista): #sobrecarga no existe en python\n",
    "    quickSort(lista, 0, len(lista)-1)"
   ]
  },
  {
   "cell_type": "markdown",
   "metadata": {},
   "source": [
    "### 4. Pruebas de Eficiencia"
   ]
  },
  {
   "cell_type": "markdown",
   "metadata": {},
   "source": [
    "### 4.1 Generacion de Datos\n",
    "Seran todas listas de 1000 numeros enteros, para evaluar de manera propia y evitar problemas externos a los procesos de Ordenamiento"
   ]
  },
  {
   "cell_type": "markdown",
   "metadata": {},
   "source": [
    "Datos Ordenados (ascendente, descendiente y todos iguales)"
   ]
  },
  {
   "cell_type": "code",
   "execution_count": 234,
   "metadata": {},
   "outputs": [],
   "source": [
    "arreglo_ascendiente = []\n",
    "arreglo_descendiente = []\n",
    "arreglo_espejo = []\n",
    "\n",
    "\n",
    "def generacion_ordenados(n):\n",
    "    arreglo_ascendiente.clear() \n",
    "    arreglo_descendiente.clear()\n",
    "    arreglo_espejo.clear()\n",
    "    for i in range(n):\n",
    "        arreglo_ascendiente.append(i)\n",
    "    for i in range(n):\n",
    "        arreglo_descendiente.append(n-i)\n",
    "    for i in range(n):\n",
    "        arreglo_espejo.append(0)"
   ]
  },
  {
   "cell_type": "markdown",
   "metadata": {},
   "source": [
    "Datos Aleatorios"
   ]
  },
  {
   "cell_type": "code",
   "execution_count": 233,
   "metadata": {},
   "outputs": [],
   "source": [
    "arreglo_aleatorio_1 = []\n",
    "arreglo_aleatorio_2 = []\n",
    "arreglo_aleatorio_3 = []\n",
    "\n",
    "def generacion_aleatorios(n):\n",
    "    arreglo_aleatorio_1.clear()\n",
    "    arreglo_aleatorio_2.clear()\n",
    "    arreglo_aleatorio_3.clear()\n",
    "    for i in range(n):\n",
    "        arreglo_aleatorio_1.append(random.randint(0,i))\n",
    "    for i in range(n):\n",
    "        arreglo_aleatorio_2.append(random.randint(0,n))\n",
    "    for i in range(n):\n",
    "        arreglo_aleatorio_3.append(random.randint(-999999,999999))"
   ]
  },
  {
   "cell_type": "markdown",
   "metadata": {},
   "source": [
    "#### El peor caso de Merge Sort: \n",
    "Es decir, el arreglo que genere el mayor numero de comparaciones. Para esto, tomaremos un arreglo ordenado, lo dividiremos en 2 sublistas, y alternaremos los elementos, como si estuvieramos barajeando las 2 sublistas."
   ]
  },
  {
   "cell_type": "code",
   "execution_count": 63,
   "metadata": {},
   "outputs": [],
   "source": [
    "def unir(listaPrincipal, listaIzquierda, listaDerecha, tam_izq, medio, tam_der):\n",
    "    i = j =0\n",
    "    while i<= medio - tam_izq:\n",
    "        listaPrincipal[i]=listaIzquierda[i]\n",
    "        i+=1\n",
    "    while j<= tam_der - medio:\n",
    "        listaPrincipal[i+j] = listaDerecha[j]\n",
    "        j+=1\n",
    "        \n",
    "def split(listaPrincipal, listaIzquierda, listaDerecha, tam_izq, medio, tam_der):\n",
    "    #este metodo separara los elementos de la lista principal de manera alternante\n",
    "    #la lista izquierda tendra los elementos en la posicion par; la derecha, los de posicion impar\n",
    "    i=0\n",
    "    while i<= medio - tam_izq:\n",
    "        listaIzquierda [i] = listaPrincipal[i*2]\n",
    "        i+=1\n",
    "    i=0\n",
    "    while i< tam_der - medio:\n",
    "        listaDerecha[i] = listaPrincipal[i*2 + 1]\n",
    "        i+=1\n",
    "def generarPeorCasoPrivado(listaPrincipal, tam_izq, tam_der):\n",
    "    if (tam_izq<tam_der):\n",
    "        medio = tam_izq + (tam_der - tam_izq)/2\n",
    "        #creando las listas auxiliares\n",
    "        listaIzquierda = [None] * len(listaPrincipal)\n",
    "        listaDerecha = [None] * len(listaPrincipal)\n",
    "        split(listaPrincipal, listaIzquierda, listaDerecha, tam_izq, medio, tam_der)\n",
    "        \n",
    "        #de manera recursiva, iremos \"barajeando\" los elemntos\n",
    "        \n",
    "        generarPeorCasoPrivado(listaIzquierda, tam_izq, medio)\n",
    "        generarPeorCasoPrivado(listaDerecha, medio+1, tam_der)\n",
    "        \n",
    "        unir(listaPrincipal, listaIzquierda, listaDerecha, tam_izq, medio, tam_der)\n",
    "\n",
    "def generarPeorCaso(lista):\n",
    "    generarPeorCasoPrivado(lista, 0, len(lista)-1)"
   ]
  },
  {
   "cell_type": "code",
   "execution_count": 238,
   "metadata": {},
   "outputs": [],
   "source": [
    "arreglo_barajeado=[]\n",
    "\n",
    "def generacion_peor_caso_MS(n):\n",
    "    generacion_ordenados(n)\n",
    "    arreglo_barajeado = arreglo_ascendiente.copy()\n",
    "    generarPeorCaso(arreglo_barajeado)"
   ]
  },
  {
   "cell_type": "code",
   "execution_count": 236,
   "metadata": {},
   "outputs": [],
   "source": [
    "def inicializar(n):\n",
    "    generacion_ordenados(n)\n",
    "    generacion_aleatorios(n)\n",
    "    generacion_peor_caso_MS(n)"
   ]
  },
  {
   "cell_type": "markdown",
   "metadata": {},
   "source": [
    "### 4.2 Medicion y Comparacion"
   ]
  },
  {
   "cell_type": "markdown",
   "metadata": {},
   "source": [
    "Probando El Merge Sort"
   ]
  },
  {
   "cell_type": "code",
   "execution_count": 239,
   "metadata": {},
   "outputs": [],
   "source": [
    "inicializar(1000)"
   ]
  },
  {
   "cell_type": "code",
   "execution_count": 152,
   "metadata": {},
   "outputs": [
    {
     "name": "stdout",
     "output_type": "stream",
     "text": [
      "La prueba con el arreglo ordenado al revez 4.999399185180664 milisegundos\n"
     ]
    }
   ],
   "source": [
    "start_time = time.time()\n",
    "merge_sort(arreglo_descendiente)\n",
    "end_time = time.time()\n",
    "t_ms_1 = (end_time - start_time)*1000\n",
    "print(\"La prueba con el arreglo ordenado al revez %s milisegundos\" % (t_ms_1))"
   ]
  },
  {
   "cell_type": "code",
   "execution_count": 162,
   "metadata": {},
   "outputs": [
    {
     "name": "stdout",
     "output_type": "stream",
     "text": [
      "La prueba con el arreglo de 0's duro 5.955934524536133 milisegundos\n"
     ]
    }
   ],
   "source": [
    "start_time = time.time()\n",
    "merge_sort(arreglo_espejo)\n",
    "end_time = time.time()\n",
    "t_ms_2 = (end_time - start_time)*1000\n",
    "print(\"La prueba con el arreglo de 0's duro %s milisegundos\" % (t_ms_2))"
   ]
  },
  {
   "cell_type": "code",
   "execution_count": 154,
   "metadata": {},
   "outputs": [
    {
     "name": "stdout",
     "output_type": "stream",
     "text": [
      "La prueba con el arreglo ordenado duro 4.968404769897461 milisegundos\n"
     ]
    }
   ],
   "source": [
    "start_time = time.time()\n",
    "merge_sort(arreglo_ascendiente)\n",
    "end_time = time.time()\n",
    "t_ms_3 = (end_time - start_time)*1000\n",
    "print(\"La prueba con el arreglo ordenado duro %s milisegundos\" % (t_ms_3))"
   ]
  },
  {
   "cell_type": "code",
   "execution_count": 155,
   "metadata": {},
   "outputs": [
    {
     "name": "stdout",
     "output_type": "stream",
     "text": [
      "La prueba con el arreglo aleatorio duro 7.988691329956055 milisegundos\n"
     ]
    }
   ],
   "source": [
    "start_time = time.time()\n",
    "merge_sort(arreglo_aleatorio_3)\n",
    "end_time = time.time()\n",
    "t_ms_4 = (end_time - start_time)*1000\n",
    "print(\"La prueba con el arreglo aleatorio duro %s milisegundos\" % (t_ms_4))"
   ]
  },
  {
   "cell_type": "code",
   "execution_count": 168,
   "metadata": {},
   "outputs": [
    {
     "ename": "RecursionError",
     "evalue": "maximum recursion depth exceeded while calling a Python object",
     "output_type": "error",
     "traceback": [
      "\u001b[1;31m---------------------------------------------------------------------------\u001b[0m",
      "\u001b[1;31mRecursionError\u001b[0m                            Traceback (most recent call last)",
      "\u001b[1;32m<ipython-input-168-473aaf17f52a>\u001b[0m in \u001b[0;36m<module>\u001b[1;34m\u001b[0m\n\u001b[0;32m      1\u001b[0m \u001b[0mstart_time\u001b[0m \u001b[1;33m=\u001b[0m \u001b[0mtime\u001b[0m\u001b[1;33m.\u001b[0m\u001b[0mtime\u001b[0m\u001b[1;33m(\u001b[0m\u001b[1;33m)\u001b[0m\u001b[1;33m\u001b[0m\u001b[1;33m\u001b[0m\u001b[0m\n\u001b[1;32m----> 2\u001b[1;33m \u001b[0mmerge_sort\u001b[0m\u001b[1;33m(\u001b[0m\u001b[0marreglo_barajeado\u001b[0m\u001b[1;33m)\u001b[0m\u001b[1;33m\u001b[0m\u001b[1;33m\u001b[0m\u001b[0m\n\u001b[0m\u001b[0;32m      3\u001b[0m \u001b[0mend_time\u001b[0m \u001b[1;33m=\u001b[0m \u001b[0mtime\u001b[0m\u001b[1;33m.\u001b[0m\u001b[0mtime\u001b[0m\u001b[1;33m(\u001b[0m\u001b[1;33m)\u001b[0m\u001b[1;33m\u001b[0m\u001b[1;33m\u001b[0m\u001b[0m\n\u001b[0;32m      4\u001b[0m \u001b[0mt_ms_5\u001b[0m \u001b[1;33m=\u001b[0m \u001b[1;33m(\u001b[0m\u001b[0mend_time\u001b[0m \u001b[1;33m-\u001b[0m \u001b[0mstart_time\u001b[0m\u001b[1;33m)\u001b[0m\u001b[1;33m*\u001b[0m\u001b[1;36m1000\u001b[0m\u001b[1;33m\u001b[0m\u001b[1;33m\u001b[0m\u001b[0m\n\u001b[0;32m      5\u001b[0m \u001b[0mprint\u001b[0m\u001b[1;33m(\u001b[0m\u001b[1;34m\"La prueba con el arreglo barajeado duro %s milisegundos\"\u001b[0m \u001b[1;33m%\u001b[0m \u001b[1;33m(\u001b[0m\u001b[0mt_ms_5\u001b[0m\u001b[1;33m)\u001b[0m\u001b[1;33m)\u001b[0m\u001b[1;33m\u001b[0m\u001b[1;33m\u001b[0m\u001b[0m\n",
      "\u001b[1;32m<ipython-input-23-689afcc790a9>\u001b[0m in \u001b[0;36mmerge_sort\u001b[1;34m(lista)\u001b[0m\n\u001b[0;32m      8\u001b[0m     \u001b[1;31m#Para asegurarnos de que todas las particiones sean descompuestas a sus componentes individuales,\u001b[0m\u001b[1;33m\u001b[0m\u001b[1;33m\u001b[0m\u001b[1;33m\u001b[0m\u001b[0m\n\u001b[0;32m      9\u001b[0m     \u001b[1;31m#llamamos recursivamente a la funcion merge sort\u001b[0m\u001b[1;33m\u001b[0m\u001b[1;33m\u001b[0m\u001b[1;33m\u001b[0m\u001b[0m\n\u001b[1;32m---> 10\u001b[1;33m     \u001b[0mizquierda\u001b[0m \u001b[1;33m=\u001b[0m \u001b[0mmerge_sort\u001b[0m\u001b[1;33m(\u001b[0m\u001b[0mlista\u001b[0m\u001b[1;33m[\u001b[0m\u001b[1;33m:\u001b[0m\u001b[0mmitad\u001b[0m\u001b[1;33m]\u001b[0m\u001b[1;33m)\u001b[0m\u001b[1;33m\u001b[0m\u001b[1;33m\u001b[0m\u001b[0m\n\u001b[0m\u001b[0;32m     11\u001b[0m     \u001b[0mderecha\u001b[0m \u001b[1;33m=\u001b[0m \u001b[0mmerge_sort\u001b[0m\u001b[1;33m(\u001b[0m\u001b[0mlista\u001b[0m\u001b[1;33m[\u001b[0m\u001b[0mmitad\u001b[0m\u001b[1;33m:\u001b[0m\u001b[1;33m]\u001b[0m\u001b[1;33m)\u001b[0m\u001b[1;33m\u001b[0m\u001b[1;33m\u001b[0m\u001b[0m\n\u001b[0;32m     12\u001b[0m \u001b[1;33m\u001b[0m\u001b[0m\n",
      "... last 1 frames repeated, from the frame below ...\n",
      "\u001b[1;32m<ipython-input-23-689afcc790a9>\u001b[0m in \u001b[0;36mmerge_sort\u001b[1;34m(lista)\u001b[0m\n\u001b[0;32m      8\u001b[0m     \u001b[1;31m#Para asegurarnos de que todas las particiones sean descompuestas a sus componentes individuales,\u001b[0m\u001b[1;33m\u001b[0m\u001b[1;33m\u001b[0m\u001b[1;33m\u001b[0m\u001b[0m\n\u001b[0;32m      9\u001b[0m     \u001b[1;31m#llamamos recursivamente a la funcion merge sort\u001b[0m\u001b[1;33m\u001b[0m\u001b[1;33m\u001b[0m\u001b[1;33m\u001b[0m\u001b[0m\n\u001b[1;32m---> 10\u001b[1;33m     \u001b[0mizquierda\u001b[0m \u001b[1;33m=\u001b[0m \u001b[0mmerge_sort\u001b[0m\u001b[1;33m(\u001b[0m\u001b[0mlista\u001b[0m\u001b[1;33m[\u001b[0m\u001b[1;33m:\u001b[0m\u001b[0mmitad\u001b[0m\u001b[1;33m]\u001b[0m\u001b[1;33m)\u001b[0m\u001b[1;33m\u001b[0m\u001b[1;33m\u001b[0m\u001b[0m\n\u001b[0m\u001b[0;32m     11\u001b[0m     \u001b[0mderecha\u001b[0m \u001b[1;33m=\u001b[0m \u001b[0mmerge_sort\u001b[0m\u001b[1;33m(\u001b[0m\u001b[0mlista\u001b[0m\u001b[1;33m[\u001b[0m\u001b[0mmitad\u001b[0m\u001b[1;33m:\u001b[0m\u001b[1;33m]\u001b[0m\u001b[1;33m)\u001b[0m\u001b[1;33m\u001b[0m\u001b[1;33m\u001b[0m\u001b[0m\n\u001b[0;32m     12\u001b[0m \u001b[1;33m\u001b[0m\u001b[0m\n",
      "\u001b[1;31mRecursionError\u001b[0m: maximum recursion depth exceeded while calling a Python object"
     ]
    }
   ],
   "source": [
    "start_time = time.time()\n",
    "merge_sort(arreglo_barajeado)\n",
    "end_time = time.time()\n",
    "t_ms_5 = (end_time - start_time)*1000\n",
    "print(\"La prueba con el arreglo barajeado duro %s milisegundos\" % (t_ms_5))"
   ]
  },
  {
   "cell_type": "markdown",
   "metadata": {},
   "source": [
    "Probando el Merge Sort Iterativo"
   ]
  },
  {
   "cell_type": "code",
   "execution_count": 213,
   "metadata": {},
   "outputs": [],
   "source": [
    "inicializar()"
   ]
  },
  {
   "cell_type": "code",
   "execution_count": 178,
   "metadata": {},
   "outputs": [
    {
     "name": "stdout",
     "output_type": "stream",
     "text": [
      "La prueba con el arreglo ordenado al revez 11.020183563232422 milisegundos\n"
     ]
    }
   ],
   "source": [
    "start_time = time.time()\n",
    "mergesort_it(arreglo_descendiente)\n",
    "end_time = time.time()\n",
    "t_ms_1 = (end_time - start_time)*1000\n",
    "print(\"La prueba con el arreglo ordenado al revez %s milisegundos\" % (t_ms_1))"
   ]
  },
  {
   "cell_type": "code",
   "execution_count": 179,
   "metadata": {},
   "outputs": [
    {
     "name": "stdout",
     "output_type": "stream",
     "text": [
      "La prueba con el arreglo de 0's duro 8.01396369934082 milisegundos\n"
     ]
    }
   ],
   "source": [
    "start_time = time.time()\n",
    "mergesort_it(arreglo_espejo)\n",
    "end_time = time.time()\n",
    "t_ms_2 = (end_time - start_time)*1000\n",
    "print(\"La prueba con el arreglo de 0's duro %s milisegundos\" % (t_ms_2))"
   ]
  },
  {
   "cell_type": "code",
   "execution_count": 180,
   "metadata": {},
   "outputs": [
    {
     "name": "stdout",
     "output_type": "stream",
     "text": [
      "La prueba con el arreglo ordenado duro 5.991697311401367 milisegundos\n"
     ]
    }
   ],
   "source": [
    "start_time = time.time()\n",
    "mergesort_it(arreglo_ascendiente)\n",
    "end_time = time.time()\n",
    "t_ms_3 = (end_time - start_time)*1000\n",
    "print(\"La prueba con el arreglo ordenado duro %s milisegundos\" % (t_ms_3))"
   ]
  },
  {
   "cell_type": "code",
   "execution_count": 188,
   "metadata": {},
   "outputs": [
    {
     "name": "stdout",
     "output_type": "stream",
     "text": [
      "La prueba con el arreglo aleatorio duro 7.984638214111328 milisegundos\n"
     ]
    }
   ],
   "source": [
    "start_time = time.time()\n",
    "mergesort_it(arreglo_aleatorio_3)\n",
    "end_time = time.time()\n",
    "t_ms_4 = (end_time - start_time)*1000\n",
    "print(\"La prueba con el arreglo aleatorio duro %s milisegundos\" % (t_ms_4))"
   ]
  },
  {
   "cell_type": "code",
   "execution_count": 231,
   "metadata": {},
   "outputs": [],
   "source": [
    "inicializar()\n",
    "generarPeorCaso(arreglo_ascendiente)\n",
    "arreglo_barajeado = arreglo_ascendiente.copy()"
   ]
  },
  {
   "cell_type": "code",
   "execution_count": 232,
   "metadata": {},
   "outputs": [
    {
     "name": "stdout",
     "output_type": "stream",
     "text": [
      "La prueba con el arreglo barajeado duro 17.08054542541504 milisegundos\n"
     ]
    }
   ],
   "source": [
    "start_time = time.time()\n",
    "mergesort_it(arreglo_barajeado)\n",
    "end_time = time.time()\n",
    "t_ms_5 = (end_time - start_time)*1000\n",
    "print(\"La prueba con el arreglo barajeado duro %s milisegundos\" % (t_ms_5))"
   ]
  },
  {
   "cell_type": "markdown",
   "metadata": {},
   "source": [
    "Probando el QuickSort"
   ]
  },
  {
   "cell_type": "code",
   "execution_count": 163,
   "metadata": {},
   "outputs": [],
   "source": [
    "inicializar()"
   ]
  },
  {
   "cell_type": "code",
   "execution_count": 164,
   "metadata": {},
   "outputs": [
    {
     "name": "stdout",
     "output_type": "stream",
     "text": [
      "La prueba con el arreglo ordenado al revez 149.02257919311523 milisegundos\n"
     ]
    }
   ],
   "source": [
    "start_time = time.time()\n",
    "quick_sort(arreglo_descendiente)\n",
    "end_time = time.time()\n",
    "t_ms_1 = (end_time - start_time)*1000\n",
    "print(\"La prueba con el arreglo ordenado al revez %s milisegundos\" % (t_ms_1))"
   ]
  },
  {
   "cell_type": "code",
   "execution_count": 165,
   "metadata": {},
   "outputs": [
    {
     "name": "stdout",
     "output_type": "stream",
     "text": [
      "La prueba con el arreglo de 0's duro 207.0600986480713 milisegundos\n"
     ]
    }
   ],
   "source": [
    "start_time = time.time()\n",
    "quick_sort(arreglo_espejo)\n",
    "end_time = time.time()\n",
    "t_ms_2 = (end_time - start_time)*1000\n",
    "print(\"La prueba con el arreglo de 0's duro %s milisegundos\" % (t_ms_2))"
   ]
  },
  {
   "cell_type": "code",
   "execution_count": 166,
   "metadata": {},
   "outputs": [
    {
     "name": "stdout",
     "output_type": "stream",
     "text": [
      "La prueba con el arreglo ordenado duro 209.13124084472656 milisegundos\n"
     ]
    }
   ],
   "source": [
    "start_time = time.time()\n",
    "quick_sort(arreglo_ascendiente)\n",
    "end_time = time.time()\n",
    "t_ms_3 = (end_time - start_time)*1000\n",
    "print(\"La prueba con el arreglo ordenado duro %s milisegundos\" % (t_ms_3))"
   ]
  },
  {
   "cell_type": "code",
   "execution_count": 167,
   "metadata": {},
   "outputs": [
    {
     "name": "stdout",
     "output_type": "stream",
     "text": [
      "La prueba con el arreglo aleatorio duro 5.986690521240234 milisegundos\n"
     ]
    }
   ],
   "source": [
    "start_time = time.time()\n",
    "quick_sort(arreglo_aleatorio_3)\n",
    "end_time = time.time()\n",
    "t_ms_4 = (end_time - start_time)*1000\n",
    "print(\"La prueba con el arreglo aleatorio duro %s milisegundos\" % (t_ms_4))"
   ]
  },
  {
   "cell_type": "code",
   "execution_count": 169,
   "metadata": {},
   "outputs": [
    {
     "name": "stdout",
     "output_type": "stream",
     "text": [
      "La prueba con el arreglo barajeado duro 0.9019374847412109 milisegundos\n"
     ]
    }
   ],
   "source": [
    "start_time = time.time()\n",
    "quick_sort(arreglo_barajeado)\n",
    "end_time = time.time()\n",
    "t_ms_5 = (end_time - start_time)*1000\n",
    "print(\"La prueba con el arreglo barajeado duro %s milisegundos\" % (t_ms_5))"
   ]
  },
  {
   "cell_type": "markdown",
   "metadata": {},
   "source": [
    "Probando Mismo Ordenamiento, diferente cantidad de datos"
   ]
  },
  {
   "cell_type": "code",
   "execution_count": 249,
   "metadata": {},
   "outputs": [
    {
     "name": "stdout",
     "output_type": "stream",
     "text": [
      "La prueba con el arreglo de 500 0's duro 45.99285125732422 milisegundos\n"
     ]
    }
   ],
   "source": [
    "inicializar(500)#quinientos\n",
    "start_time = time.time()\n",
    "quick_sort(arreglo_espejo)\n",
    "end_time = time.time()\n",
    "t_qs_1 = (end_time - start_time)*1000\n",
    "print(\"La prueba con el arreglo de 2000 0's duro %s milisegundos\" % (t_qs_1))"
   ]
  },
  {
   "cell_type": "code",
   "execution_count": 252,
   "metadata": {},
   "outputs": [
    {
     "name": "stdout",
     "output_type": "stream",
     "text": [
      "La prueba con el arreglo de 2000 0's duro 740.1235103607178 milisegundos\n"
     ]
    }
   ],
   "source": [
    "inicializar(2000) # Dos Mil\n",
    "start_time = time.time()\n",
    "quick_sort(arreglo_espejo)\n",
    "end_time = time.time()\n",
    "t_qs_2 = (end_time - start_time)*1000\n",
    "print(\"La prueba con el arreglo de 2000 0's duro %s milisegundos\" % (t_qs_2))"
   ]
  },
  {
   "cell_type": "code",
   "execution_count": 253,
   "metadata": {},
   "outputs": [
    {
     "ename": "RecursionError",
     "evalue": "maximum recursion depth exceeded in comparison",
     "output_type": "error",
     "traceback": [
      "\u001b[1;31m---------------------------------------------------------------------------\u001b[0m",
      "\u001b[1;31mRecursionError\u001b[0m                            Traceback (most recent call last)",
      "\u001b[1;32m<ipython-input-253-6009aa123e61>\u001b[0m in \u001b[0;36m<module>\u001b[1;34m\u001b[0m\n\u001b[0;32m      2\u001b[0m \u001b[1;33m\u001b[0m\u001b[0m\n\u001b[0;32m      3\u001b[0m \u001b[0mstart_time\u001b[0m \u001b[1;33m=\u001b[0m \u001b[0mtime\u001b[0m\u001b[1;33m.\u001b[0m\u001b[0mtime\u001b[0m\u001b[1;33m(\u001b[0m\u001b[1;33m)\u001b[0m\u001b[1;33m\u001b[0m\u001b[1;33m\u001b[0m\u001b[0m\n\u001b[1;32m----> 4\u001b[1;33m \u001b[0mquick_sort\u001b[0m\u001b[1;33m(\u001b[0m\u001b[0marreglo_espejo\u001b[0m\u001b[1;33m)\u001b[0m\u001b[1;33m\u001b[0m\u001b[1;33m\u001b[0m\u001b[0m\n\u001b[0m\u001b[0;32m      5\u001b[0m \u001b[0mend_time\u001b[0m \u001b[1;33m=\u001b[0m \u001b[0mtime\u001b[0m\u001b[1;33m.\u001b[0m\u001b[0mtime\u001b[0m\u001b[1;33m(\u001b[0m\u001b[1;33m)\u001b[0m\u001b[1;33m\u001b[0m\u001b[1;33m\u001b[0m\u001b[0m\n\u001b[0;32m      6\u001b[0m \u001b[0mt_qs_3\u001b[0m \u001b[1;33m=\u001b[0m \u001b[1;33m(\u001b[0m\u001b[0mend_time\u001b[0m \u001b[1;33m-\u001b[0m \u001b[0mstart_time\u001b[0m\u001b[1;33m)\u001b[0m\u001b[1;33m*\u001b[0m\u001b[1;36m1000\u001b[0m\u001b[1;33m\u001b[0m\u001b[1;33m\u001b[0m\u001b[0m\n",
      "\u001b[1;32m<ipython-input-30-02ec405cef0c>\u001b[0m in \u001b[0;36mquick_sort\u001b[1;34m(lista)\u001b[0m\n\u001b[0;32m     23\u001b[0m \u001b[1;33m\u001b[0m\u001b[0m\n\u001b[0;32m     24\u001b[0m \u001b[1;32mdef\u001b[0m \u001b[0mquick_sort\u001b[0m\u001b[1;33m(\u001b[0m\u001b[0mlista\u001b[0m\u001b[1;33m)\u001b[0m\u001b[1;33m:\u001b[0m \u001b[1;31m#sobrecarga no existe en python\u001b[0m\u001b[1;33m\u001b[0m\u001b[1;33m\u001b[0m\u001b[0m\n\u001b[1;32m---> 25\u001b[1;33m     \u001b[0mquickSort\u001b[0m\u001b[1;33m(\u001b[0m\u001b[0mlista\u001b[0m\u001b[1;33m,\u001b[0m \u001b[1;36m0\u001b[0m\u001b[1;33m,\u001b[0m \u001b[0mlen\u001b[0m\u001b[1;33m(\u001b[0m\u001b[0mlista\u001b[0m\u001b[1;33m)\u001b[0m\u001b[1;33m-\u001b[0m\u001b[1;36m1\u001b[0m\u001b[1;33m)\u001b[0m\u001b[1;33m\u001b[0m\u001b[1;33m\u001b[0m\u001b[0m\n\u001b[0m",
      "\u001b[1;32m<ipython-input-30-02ec405cef0c>\u001b[0m in \u001b[0;36mquickSort\u001b[1;34m(lista, inicio, fin)\u001b[0m\n\u001b[0;32m     19\u001b[0m         \u001b[0mindice_de_particion\u001b[0m \u001b[1;33m=\u001b[0m \u001b[0mparticion\u001b[0m\u001b[1;33m(\u001b[0m\u001b[0mlista\u001b[0m\u001b[1;33m,\u001b[0m\u001b[0minicio\u001b[0m\u001b[1;33m,\u001b[0m\u001b[0mfin\u001b[0m\u001b[1;33m)\u001b[0m\u001b[1;33m\u001b[0m\u001b[1;33m\u001b[0m\u001b[0m\n\u001b[0;32m     20\u001b[0m         \u001b[1;31m#sorteamos los elementos antes y despues de la particion\u001b[0m\u001b[1;33m\u001b[0m\u001b[1;33m\u001b[0m\u001b[1;33m\u001b[0m\u001b[0m\n\u001b[1;32m---> 21\u001b[1;33m         \u001b[0mquickSort\u001b[0m\u001b[1;33m(\u001b[0m\u001b[0mlista\u001b[0m\u001b[1;33m,\u001b[0m \u001b[0minicio\u001b[0m\u001b[1;33m,\u001b[0m \u001b[0mindice_de_particion\u001b[0m \u001b[1;33m-\u001b[0m \u001b[1;36m1\u001b[0m\u001b[1;33m)\u001b[0m\u001b[1;33m\u001b[0m\u001b[1;33m\u001b[0m\u001b[0m\n\u001b[0m\u001b[0;32m     22\u001b[0m         \u001b[0mquickSort\u001b[0m\u001b[1;33m(\u001b[0m\u001b[0mlista\u001b[0m\u001b[1;33m,\u001b[0m \u001b[0mindice_de_particion\u001b[0m \u001b[1;33m+\u001b[0m \u001b[1;36m1\u001b[0m\u001b[1;33m,\u001b[0m \u001b[0mfin\u001b[0m\u001b[1;33m)\u001b[0m\u001b[1;33m\u001b[0m\u001b[1;33m\u001b[0m\u001b[0m\n\u001b[0;32m     23\u001b[0m \u001b[1;33m\u001b[0m\u001b[0m\n",
      "... last 1 frames repeated, from the frame below ...\n",
      "\u001b[1;32m<ipython-input-30-02ec405cef0c>\u001b[0m in \u001b[0;36mquickSort\u001b[1;34m(lista, inicio, fin)\u001b[0m\n\u001b[0;32m     19\u001b[0m         \u001b[0mindice_de_particion\u001b[0m \u001b[1;33m=\u001b[0m \u001b[0mparticion\u001b[0m\u001b[1;33m(\u001b[0m\u001b[0mlista\u001b[0m\u001b[1;33m,\u001b[0m\u001b[0minicio\u001b[0m\u001b[1;33m,\u001b[0m\u001b[0mfin\u001b[0m\u001b[1;33m)\u001b[0m\u001b[1;33m\u001b[0m\u001b[1;33m\u001b[0m\u001b[0m\n\u001b[0;32m     20\u001b[0m         \u001b[1;31m#sorteamos los elementos antes y despues de la particion\u001b[0m\u001b[1;33m\u001b[0m\u001b[1;33m\u001b[0m\u001b[1;33m\u001b[0m\u001b[0m\n\u001b[1;32m---> 21\u001b[1;33m         \u001b[0mquickSort\u001b[0m\u001b[1;33m(\u001b[0m\u001b[0mlista\u001b[0m\u001b[1;33m,\u001b[0m \u001b[0minicio\u001b[0m\u001b[1;33m,\u001b[0m \u001b[0mindice_de_particion\u001b[0m \u001b[1;33m-\u001b[0m \u001b[1;36m1\u001b[0m\u001b[1;33m)\u001b[0m\u001b[1;33m\u001b[0m\u001b[1;33m\u001b[0m\u001b[0m\n\u001b[0m\u001b[0;32m     22\u001b[0m         \u001b[0mquickSort\u001b[0m\u001b[1;33m(\u001b[0m\u001b[0mlista\u001b[0m\u001b[1;33m,\u001b[0m \u001b[0mindice_de_particion\u001b[0m \u001b[1;33m+\u001b[0m \u001b[1;36m1\u001b[0m\u001b[1;33m,\u001b[0m \u001b[0mfin\u001b[0m\u001b[1;33m)\u001b[0m\u001b[1;33m\u001b[0m\u001b[1;33m\u001b[0m\u001b[0m\n\u001b[0;32m     23\u001b[0m \u001b[1;33m\u001b[0m\u001b[0m\n",
      "\u001b[1;31mRecursionError\u001b[0m: maximum recursion depth exceeded in comparison"
     ]
    }
   ],
   "source": [
    "inicializar(10000) #diez Mil\n",
    "\n",
    "start_time = time.time()\n",
    "quick_sort(arreglo_espejo)\n",
    "end_time = time.time()\n",
    "t_qs_3 = (end_time - start_time)*1000\n",
    "print(\"La prueba con el arreglo de 10,000 0's duro %s milisegundos\" % (t_qs_3))"
   ]
  },
  {
   "cell_type": "markdown",
   "metadata": {},
   "source": []
  },
  {
   "cell_type": "code",
   "execution_count": 258,
   "metadata": {},
   "outputs": [
    {
     "name": "stdout",
     "output_type": "stream",
     "text": [
      "La prueba con el arreglo aleatorio de 500 tardo 6.010532379150391 milisegundos\n"
     ]
    }
   ],
   "source": [
    "generacion_aleatorios(500)\n",
    "start_time = time.time()\n",
    "merge_sort(arreglo_aleatorio_2)\n",
    "end_time = time.time()\n",
    "t_ms_1 = (end_time - start_time)*1000\n",
    "print(\"La prueba con el arreglo aleatorio de 500 tardo %s milisegundos\" % (t_ms_1))"
   ]
  },
  {
   "cell_type": "code",
   "execution_count": 259,
   "metadata": {},
   "outputs": [
    {
     "name": "stdout",
     "output_type": "stream",
     "text": [
      "La prueba con el arreglo aleatorio de 2000 tardo 21.14558219909668 milisegundos\n"
     ]
    }
   ],
   "source": [
    "generacion_aleatorios(2000)\n",
    "start_time = time.time()\n",
    "merge_sort(arreglo_aleatorio_2)\n",
    "end_time = time.time()\n",
    "t_ms_1 = (end_time - start_time)*1000\n",
    "print(\"La prueba con el arreglo aleatorio de 2000 tardo %s milisegundos\" % (t_ms_1))"
   ]
  },
  {
   "cell_type": "code",
   "execution_count": 260,
   "metadata": {},
   "outputs": [
    {
     "name": "stdout",
     "output_type": "stream",
     "text": [
      "La prueba con el arreglo aleatorio de 10,000 tardo 96.16494178771973 milisegundos\n"
     ]
    }
   ],
   "source": [
    "generacion_aleatorios(10000)\n",
    "start_time = time.time()\n",
    "merge_sort(arreglo_aleatorio_2)\n",
    "end_time = time.time()\n",
    "t_ms_1 = (end_time - start_time)*1000\n",
    "print(\"La prueba con el arreglo aleatorio de 10,000 tardo %s milisegundos\" % (t_ms_1))"
   ]
  },
  {
   "cell_type": "code",
   "execution_count": 261,
   "metadata": {},
   "outputs": [
    {
     "name": "stdout",
     "output_type": "stream",
     "text": [
      "La prueba con el arreglo aletorio de 100,000 tardo 1424.0870475769043 milisegundos\n"
     ]
    }
   ],
   "source": [
    "generacion_aleatorios(100000)\n",
    "start_time = time.time()\n",
    "merge_sort(arreglo_aleatorio_2)\n",
    "end_time = time.time()\n",
    "t_ms_1 = (end_time - start_time)*1000\n",
    "print(\"La prueba con el arreglo aletorio de 100,000 tardo %s milisegundos\" % (t_ms_1))"
   ]
  }
 ],
 "metadata": {
  "kernelspec": {
   "display_name": "Python 3",
   "language": "python",
   "name": "python3"
  },
  "language_info": {
   "codemirror_mode": {
    "name": "ipython",
    "version": 3
   },
   "file_extension": ".py",
   "mimetype": "text/x-python",
   "name": "python",
   "nbconvert_exporter": "python",
   "pygments_lexer": "ipython3",
   "version": "3.7.6"
  }
 },
 "nbformat": 4,
 "nbformat_minor": 4
}
